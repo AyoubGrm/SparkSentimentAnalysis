{
 "cells": [
  {
   "cell_type": "code",
   "execution_count": 1,
   "metadata": {},
   "outputs": [],
   "source": [
    "import findspark\n",
    "findspark.init('/home/ayoubgrm/spark')\n",
    "#import modules\n",
    "from pyspark.sql import SparkSession, functions as F\n",
    "from pyspark.sql.types import *\n",
    "from pyspark.sql.functions import *\n",
    "from pyspark.ml.classification import LogisticRegression\n",
    "from pyspark.ml.feature import HashingTF, Tokenizer, StopWordsRemover\n",
    "from pyspark.sql.functions import monotonically_increasing_id\n",
    "\n",
    "# utilities\n",
    "import re\n",
    "import pickle\n",
    "import numpy as np\n",
    "import pandas as pd\n",
    "\n",
    "# plotting\n",
    "import seaborn as sns\n",
    "from wordcloud import WordCloud\n",
    "import matplotlib.pyplot as plt\n",
    "\n",
    "#create Spark session\n",
    "appName = \"Sentiment Analysis in Spark1\"\n",
    "spark = SparkSession.builder.appName(appName).config(\"spark.some.config.option\", \"some-value\").getOrCreate()"
   ]
  },
  {
   "cell_type": "code",
   "execution_count": 2,
   "metadata": {},
   "outputs": [
    {
     "name": "stdout",
     "output_type": "stream",
     "text": [
      "+---------+----------+----------------------------+--------+------------+-----------------------------------------------------+\n",
      "|sentiment|ids       |date                        |flag    |user        |text                                                 |\n",
      "+---------+----------+----------------------------+--------+------------+-----------------------------------------------------+\n",
      "|0        |2257881753|Sat Jun 20 15:02:40 PDT 2009|NO_QUERY|000catnap000|kinda miss my mom  shouldn't have called her today...|\n",
      "|4        |2058981540|Sat Jun 06 16:00:48 PDT 2009|NO_QUERY|000catnap000|can't get enough of it  http://bit.ly/134sSZ         |\n",
      "|4        |2058432528|Sat Jun 06 14:55:54 PDT 2009|NO_QUERY|000catnap000|@Wumbologist hmmm...why not                          |\n",
      "+---------+----------+----------------------------+--------+------------+-----------------------------------------------------+\n",
      "only showing top 3 rows\n",
      "\n"
     ]
    }
   ],
   "source": [
    "#read csv file into dataFrame with automatically inferred schema\n",
    "schema = StructType([\n",
    "         StructField('sentiment', IntegerType()),\n",
    "         StructField('ids', StringType()),\n",
    "         StructField('date', StringType(), True),\n",
    "         StructField('flag', StringType(), True),\n",
    "         StructField('user', StringType()),\n",
    "         StructField('text', StringType())\n",
    "         ])\n",
    "tweets_csv = spark.read.csv('/dataset/senti140.csv', schema=schema).orderBy('user')\n",
    "tweets_csv.show(truncate=False, n=3)"
   ]
  },
  {
   "cell_type": "code",
   "execution_count": 3,
   "metadata": {},
   "outputs": [
    {
     "data": {
      "image/png": "[encoded data removed]",
      "text/plain": [
       "<Figure size 432x288 with 1 Axes>"
      ]
     },
     "metadata": {
      "needs_background": "light"
     },
     "output_type": "display_data"
    }
   ],
   "source": [
    "# converting spark dataframe to pandas\n",
    "dataset = tweets_csv.select('sentiment','text').toPandas()\n",
    "# Removing the unnecessary columns.\n",
    "dataset = dataset[['sentiment','text']]\n",
    "# Replacing the values to ease understanding.\n",
    "dataset['sentiment'] = dataset['sentiment'].replace(4,1)\n",
    "\n",
    "# Plotting the distribution for dataset.\n",
    "ax = dataset.groupby('sentiment').count().plot(kind='bar', title='Distribution of data',\n",
    "                                               legend=False)\n",
    "ax.set_xticklabels(['Negative','Positive'], rotation=0)\n",
    "\n",
    "# Storing data in lists.\n",
    "text, sentiment = list(dataset['text']), list(dataset['sentiment'])"
   ]
  },
  {
   "cell_type": "code",
   "execution_count": 4,
   "metadata": {},
   "outputs": [],
   "source": [
    "# Defining dictionary containing all emojis with their meanings.\n",
    "emojis = {':)': 'smile', ':-)': 'smile', ';d': 'wink', ':-E': 'vampire', '>-)':\n",
    "          'evilgrin', ':(': 'sad', ':-(': 'sad', ':-<': 'sad', ':P': 'raspberry', \n",
    "          ':-O': 'surprised', ':-*': 'kissing', ':-@': 'shocked', ':-$': 'confused',\n",
    "          ':-\\\\': 'annoyed', ':-#': 'mute', '(((H)))': 'hugs', ':-X': 'kissing',\n",
    "          '`:-)': 'smile', ':^)': 'smile', ':-&': 'confused', '<:-)': 'smile', \n",
    "          ':->': 'smile', '(-}{-)': 'kissing', ':-Q': 'smoking','$_$': 'greedy',\n",
    "          '@@': 'eyeroll', ':-!': 'confused', ':-D': 'smile', ':*)': 'smile',\n",
    "          ':@': 'shocked',':-0': 'yell', ':-----)': 'liar', '%-(': 'confused',\n",
    "          '(:I': 'egghead', '|-O': 'yawning', ':@)': 'smile', 'O.o': 'confused',\n",
    "          '<(-_-)>': 'robot', 'd[-_-]b': 'dj', '~:0': 'baby', '-@--@-': 'eyeglass',\n",
    "          \":'-)\": 'sadsmile', '{:-)': 'smile', ';)': 'wink', ';-)': 'wink', \n",
    "          'O:-)': 'angel','O*-)': 'angel','(:-D': 'gossip', '=^.^=': 'cat'}"
   ]
  },
  {
   "cell_type": "code",
   "execution_count": 5,
   "metadata": {},
   "outputs": [],
   "source": [
    "def preprocess(textdata):\n",
    "    processedText = []\n",
    "    \n",
    "    # Defining regex patterns.\n",
    "    urlPattern        = r\"((http://)[^ ]*|(https://)[^ ]*|( www\\.)[^ ]*)\"\n",
    "    userPattern       = '@[^\\s]+'\n",
    "    alphaPattern      = \"[^a-zA-Z0-9]\"\n",
    "    sequencePattern   = r\"(.)\\1\\1+\"\n",
    "    seqReplacePattern = r\"\\1\\1\"\n",
    "    \n",
    "    for tweet in textdata:\n",
    "        tweet = tweet.lower()\n",
    "        \n",
    "        # Replace all URls with 'URL'\n",
    "        tweet = re.sub(urlPattern,' URL',tweet)\n",
    "        # Replace all emojis.\n",
    "        for emoji in emojis.keys():\n",
    "            tweet = tweet.replace(emoji, \"EMOJI\" + emojis[emoji])        \n",
    "        # Replace @USERNAME to 'USER'.\n",
    "        tweet = re.sub(userPattern,' USER', tweet)        \n",
    "        # Replace all non alphabets.\n",
    "        tweet = re.sub(alphaPattern, \" \", tweet)        \n",
    "        # Replace 3 or more consecutive letters by 2 letter.\n",
    "        tweet = re.sub(sequencePattern, seqReplacePattern, tweet)\n",
    "        processedText.append(tweet)\n",
    "    return processedText"
   ]
  },
  {
   "cell_type": "code",
   "execution_count": 6,
   "metadata": {},
   "outputs": [
    {
     "name": "stdout",
     "output_type": "stream",
     "text": [
      "+---------+--------------------+\n",
      "|sentiment|                text|\n",
      "+---------+--------------------+\n",
      "|        0|kinda miss my mom...|\n",
      "|        1| USER huh uhu  i ...|\n",
      "|        1|awake since six o...|\n",
      "|        1|this is one of th...|\n",
      "|        1|  USER hmm  why not |\n",
      "|        1|can t get enough ...|\n",
      "|        1|just had a facebo...|\n",
      "|        1|thank god we fina...|\n",
      "|        1| USER  really  lo...|\n",
      "|        1|          USER why  |\n",
      "|        1|is going to stone...|\n",
      "|        1|  USER i luv it too |\n",
      "|        0|ahh EMOJIshocked ...|\n",
      "|        0| USER i sit here ...|\n",
      "|        0|at work going men...|\n",
      "|        0|nearlly finished ...|\n",
      "|        0|today was not a g...|\n",
      "|        1|i am special aren...|\n",
      "|        1|another lovely da...|\n",
      "|        1|had  great weeken...|\n",
      "+---------+--------------------+\n",
      "only showing top 20 rows\n",
      "\n"
     ]
    }
   ],
   "source": [
    "# create preprocessed spark dataframe\n",
    "processedtext = preprocess(text)\n",
    "dataset['text'] = processedtext\n",
    "pdf = spark.createDataFrame(dataset)\n",
    "pdf.show()"
   ]
  },
  {
   "cell_type": "code",
   "execution_count": 7,
   "metadata": {},
   "outputs": [
    {
     "name": "stdout",
     "output_type": "stream",
     "text": [
      "Training data rows: 1120034 ; Testing data rows: 479966\n"
     ]
    }
   ],
   "source": [
    "#divide data, 70% for training, 30% for testing\n",
    "dividedData = pdf.randomSplit([0.7, 0.3]) \n",
    "trainingData = dividedData[0] #index 0 = data training\n",
    "testingData = dividedData[1] #index 1 = data testing\n",
    "train_rows = trainingData.count()\n",
    "test_rows = testingData.count()\n",
    "print (\"Training data rows:\", train_rows, \"; Testing data rows:\", test_rows)"
   ]
  },
  {
   "cell_type": "code",
   "execution_count": 8,
   "metadata": {},
   "outputs": [
    {
     "name": "stdout",
     "output_type": "stream",
     "text": [
      "+---------+------------------------------------------------------------------------------------------------------------------+---------------------------------------------------------------------------------------------------------------------------------------------+\n",
      "|sentiment|text                                                                                                              |SentimentWords                                                                                                                               |\n",
      "+---------+------------------------------------------------------------------------------------------------------------------+---------------------------------------------------------------------------------------------------------------------------------------------+\n",
      "|0        |  24 hours preparation  which means a lot of pressure  so my german exam actually starts on monday at 8am         |[, , 24, hours, preparation, , which, means, a, lot, of, pressure, , so, my, german, exam, actually, starts, on, monday, at, 8am]            |\n",
      "|0        |  3turnoffwords this shit sucks                                                                                   |[, , 3turnoffwords, this, shit, sucks]                                                                                                       |\n",
      "|0        |  EMOJIdj  EMOJIdj  ok so we lost that match  but it s all good we scored two goals against the top concacaf team |[, , emojidj, , emojidj, , ok, so, we, lost, that, match, , but, it, s, all, good, we, scored, two, goals, against, the, top, concacaf, team]|\n",
      "|0        |  URL  heartfelt and touching  it made me teary eyed                                                              |[, , url, , heartfelt, and, touching, , it, made, me, teary, eyed]                                                                           |\n",
      "|0        |  URL  i hope she starts taking care of herself  lt 3                                                             |[, , url, , i, hope, she, starts, taking, care, of, herself, , lt, 3]                                                                        |\n",
      "+---------+------------------------------------------------------------------------------------------------------------------+---------------------------------------------------------------------------------------------------------------------------------------------+\n",
      "only showing top 5 rows\n",
      "\n"
     ]
    }
   ],
   "source": [
    "# additional spark dataframe preprocessing\n",
    "# 1. tokenization\n",
    "tokenizer = Tokenizer(inputCol=\"text\", outputCol=\"SentimentWords\")\n",
    "tokenizedTrain = tokenizer.transform(trainingData)\n",
    "tokenizedTrain.show(truncate=False, n=5)"
   ]
  },
  {
   "cell_type": "code",
   "execution_count": 9,
   "metadata": {},
   "outputs": [
    {
     "name": "stdout",
     "output_type": "stream",
     "text": [
      "+---------+------------------------------------------------------------------------------------------------------------------+---------------------------------------------------------------------------------------------------------------------------------------------+---------------------------------------------------------------------------------------------------+\n",
      "|sentiment|text                                                                                                              |SentimentWords                                                                                                                               |MeaningfulWords                                                                                    |\n",
      "+---------+------------------------------------------------------------------------------------------------------------------+---------------------------------------------------------------------------------------------------------------------------------------------+---------------------------------------------------------------------------------------------------+\n",
      "|0        |  24 hours preparation  which means a lot of pressure  so my german exam actually starts on monday at 8am         |[, , 24, hours, preparation, , which, means, a, lot, of, pressure, , so, my, german, exam, actually, starts, on, monday, at, 8am]            |[, , 24, hours, preparation, , means, lot, pressure, , german, exam, actually, starts, monday, 8am]|\n",
      "|0        |  3turnoffwords this shit sucks                                                                                   |[, , 3turnoffwords, this, shit, sucks]                                                                                                       |[, , 3turnoffwords, shit, sucks]                                                                   |\n",
      "|0        |  EMOJIdj  EMOJIdj  ok so we lost that match  but it s all good we scored two goals against the top concacaf team |[, , emojidj, , emojidj, , ok, so, we, lost, that, match, , but, it, s, all, good, we, scored, two, goals, against, the, top, concacaf, team]|[, , emojidj, , emojidj, , ok, lost, match, , good, scored, two, goals, top, concacaf, team]       |\n",
      "|0        |  URL  heartfelt and touching  it made me teary eyed                                                              |[, , url, , heartfelt, and, touching, , it, made, me, teary, eyed]                                                                           |[, , url, , heartfelt, touching, , made, teary, eyed]                                              |\n",
      "|0        |  URL  i hope she starts taking care of herself  lt 3                                                             |[, , url, , i, hope, she, starts, taking, care, of, herself, , lt, 3]                                                                        |[, , url, , hope, starts, taking, care, , lt, 3]                                                   |\n",
      "+---------+------------------------------------------------------------------------------------------------------------------+---------------------------------------------------------------------------------------------------------------------------------------------+---------------------------------------------------------------------------------------------------+\n",
      "only showing top 5 rows\n",
      "\n"
     ]
    }
   ],
   "source": [
    "# 2. remove stop words\n",
    "swr = StopWordsRemover(inputCol=tokenizer.getOutputCol(), \n",
    "                       outputCol=\"MeaningfulWords\")\n",
    "SwRemovedTrain = swr.transform(tokenizedTrain)\n",
    "SwRemovedTrain.show(truncate=False, n=5)"
   ]
  },
  {
   "cell_type": "code",
   "execution_count": 10,
   "metadata": {},
   "outputs": [
    {
     "name": "stdout",
     "output_type": "stream",
     "text": [
      "+---------+---------------------------------------------------------------------------------------------------+------------------------------------------------------------------------------------------------------------------------------------------------------+\n",
      "|sentiment|MeaningfulWords                                                                                    |features                                                                                                                                              |\n",
      "+---------+---------------------------------------------------------------------------------------------------+------------------------------------------------------------------------------------------------------------------------------------------------------+\n",
      "|0        |[, , 24, hours, preparation, , means, lot, pressure, , german, exam, actually, starts, monday, 8am]|(262144,[65368,66864,87885,94522,96266,127844,132975,138281,158069,222966,245599,249180,257389],[1.0,1.0,1.0,1.0,1.0,1.0,1.0,1.0,1.0,1.0,1.0,4.0,1.0])|\n",
      "|0        |[, , 3turnoffwords, shit, sucks]                                                                   |(262144,[22057,64076,115109,249180],[1.0,1.0,1.0,2.0])                                                                                                |\n",
      "|0        |[, , emojidj, , emojidj, , ok, lost, match, , good, scored, two, goals, top, concacaf, team]       |(262144,[18176,19153,30644,48689,62635,113432,198197,235700,239172,249180,251730,258728],[1.0,1.0,1.0,1.0,1.0,1.0,1.0,1.0,2.0,5.0,1.0,1.0])           |\n",
      "+---------+---------------------------------------------------------------------------------------------------+------------------------------------------------------------------------------------------------------------------------------------------------------+\n",
      "only showing top 3 rows\n",
      "\n"
     ]
    }
   ],
   "source": [
    "# Converting words feature into numerical feature\n",
    "hashTF = HashingTF(inputCol=swr.getOutputCol(), outputCol=\"features\")\n",
    "numericTrainData = hashTF.transform(SwRemovedTrain).select(\n",
    "    'sentiment', 'MeaningfulWords', 'features')\n",
    "numericTrainData.show(truncate=False, n=3)"
   ]
  },
  {
   "cell_type": "code",
   "execution_count": 11,
   "metadata": {},
   "outputs": [
    {
     "name": "stdout",
     "output_type": "stream",
     "text": [
      "Training is done!\n"
     ]
    }
   ],
   "source": [
    "# Train our classifier model using training data\n",
    "lr = LogisticRegression(labelCol=\"sentiment\", featuresCol=\"features\", \n",
    "                        maxIter=10, regParam=0.01)\n",
    "model = lr.fit(numericTrainData)\n",
    "print (\"Training is done!\")"
   ]
  },
  {
   "cell_type": "code",
   "execution_count": 12,
   "metadata": {},
   "outputs": [
    {
     "name": "stdout",
     "output_type": "stream",
     "text": [
      "+---------+-------------------------------------------------------------------------------------------------------------+-------------------------------------------------------------------------------------------------------------------------------------------------------------------------+\n",
      "|sentiment|MeaningfulWords                                                                                              |features                                                                                                                                                                 |\n",
      "+---------+-------------------------------------------------------------------------------------------------------------+-------------------------------------------------------------------------------------------------------------------------------------------------------------------------+\n",
      "|0        |[, , 22, 30pm, , bed, time, people]                                                                          |(262144,[21641,52525,93522,121517,185559,249180],[1.0,1.0,1.0,1.0,1.0,3.0])                                                                                              |\n",
      "|0        |[, , 3, great, friendships, lost, facebook, due, friends, trippin, drama, , know, alot, , wasn, fault, lol, ]|(262144,[6512,19153,41809,59577,60824,89397,91310,121555,130047,140931,168590,170186,247936,249180,261870],[1.0,1.0,1.0,1.0,1.0,1.0,1.0,1.0,1.0,1.0,1.0,1.0,1.0,5.0,1.0])|\n",
      "+---------+-------------------------------------------------------------------------------------------------------------+-------------------------------------------------------------------------------------------------------------------------------------------------------------------------+\n",
      "only showing top 2 rows\n",
      "\n"
     ]
    }
   ],
   "source": [
    "# Prepare testing data\n",
    "tokenizedTest = tokenizer.transform(testingData)\n",
    "SwRemovedTest = swr.transform(tokenizedTest)\n",
    "numericTest = hashTF.transform(SwRemovedTest).select(\n",
    "    'sentiment', 'MeaningfulWords', 'features')\n",
    "numericTest.show(truncate=False, n=2)"
   ]
  },
  {
   "cell_type": "code",
   "execution_count": 13,
   "metadata": {},
   "outputs": [
    {
     "name": "stdout",
     "output_type": "stream",
     "text": [
      "+-------------------------------------------------------------------------------------------------------------+----------+---------+\n",
      "|MeaningfulWords                                                                                              |prediction|sentiment|\n",
      "+-------------------------------------------------------------------------------------------------------------+----------+---------+\n",
      "|[, , 22, 30pm, , bed, time, people]                                                                          |1.0       |0        |\n",
      "|[, , 3, great, friendships, lost, facebook, due, friends, trippin, drama, , know, alot, , wasn, fault, lol, ]|0.0       |0        |\n",
      "|[, , 95, , sure, phone, toast, , shiit]                                                                      |0.0       |0        |\n",
      "|[, , url, poor, boy, autistic, , amp, , loved, water, , wish, say, died, loved, , drowning, awful]           |0.0       |0        |\n",
      "+-------------------------------------------------------------------------------------------------------------+----------+---------+\n",
      "only showing top 4 rows\n",
      "\n",
      "correct prediction: 367745 , total data: 479966 , accuracy: 0.7661896884362642\n"
     ]
    }
   ],
   "source": [
    "# Predict testing data and calculate the accuracy model\n",
    "prediction = model.transform(numericTest)\n",
    "predictionFinal = prediction.select(\n",
    "    \"MeaningfulWords\", \"prediction\", \"sentiment\")\n",
    "predictionFinal.show(n=4, truncate = False)\n",
    "correctPrediction = predictionFinal.filter(\n",
    "    predictionFinal['prediction'] == predictionFinal['sentiment']).count()\n",
    "totalData = predictionFinal.count()\n",
    "print(\"correct prediction:\", correctPrediction, \", total data:\", totalData, \n",
    "      \", accuracy:\", correctPrediction/totalData)"
   ]
  }
 ],
 "metadata": {
  "kernelspec": {
   "display_name": "Python 3",
   "language": "python",
   "name": "python3"
  },
  "language_info": {
   "codemirror_mode": {
    "name": "ipython",
    "version": 3
   },
   "file_extension": ".py",
   "mimetype": "text/x-python",
   "name": "python",
   "nbconvert_exporter": "python",
   "pygments_lexer": "ipython3",
   "version": "3.7.6"
  }
 },
 "nbformat": 4,
 "nbformat_minor": 4
}
